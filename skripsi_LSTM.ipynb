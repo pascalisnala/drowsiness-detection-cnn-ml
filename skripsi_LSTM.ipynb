{
  "nbformat": 4,
  "nbformat_minor": 0,
  "metadata": {
    "kernelspec": {
      "name": "python3",
      "display_name": "Python 3"
    },
    "language_info": {
      "codemirror_mode": {
        "name": "ipython",
        "version": 3
      },
      "file_extension": ".py",
      "mimetype": "text/x-python",
      "name": "python",
      "nbconvert_exporter": "python",
      "pygments_lexer": "ipython3",
      "version": "3.7.3"
    },
    "colab": {
      "name": "skripsi-LSTM.ipynb",
      "provenance": [],
      "machine_shape": "hm",
      "include_colab_link": true
    },
    "accelerator": "GPU"
  },
  "cells": [
    {
      "cell_type": "markdown",
      "metadata": {
        "id": "view-in-github",
        "colab_type": "text"
      },
      "source": [
        "<a href=\"https://colab.research.google.com/github/pascalisnala/skripsi-machinelearning/blob/master/skripsi_LSTM.ipynb\" target=\"_parent\"><img src=\"https://colab.research.google.com/assets/colab-badge.svg\" alt=\"Open In Colab\"/></a>"
      ]
    },
    {
      "cell_type": "code",
      "metadata": {
        "id": "ytIm21vApB9L",
        "colab_type": "code",
        "colab": {}
      },
      "source": [
        "import datetime\n",
        "import time\n",
        "import random\n",
        "\n",
        "import numpy as np\n",
        "import pandas as pd\n",
        "\n",
        "from collections import deque\n",
        "\n",
        "import seaborn as sns\n",
        "import matplotlib.pyplot as plt\n",
        "\n",
        "from sklearn import preprocessing\n",
        "import tensorflow as tf\n",
        "from tensorflow.keras.models import Sequential\n",
        "from tensorflow.keras.layers import Dense, Dropout, LSTM, BatchNormalization\n",
        "from tensorflow.keras.callbacks import TensorBoard, ModelCheckpoint\n",
        "\n",
        "from sklearn.metrics import classification_report,f1_score,accuracy_score\n",
        "\n",
        "import random"
      ],
      "execution_count": 0,
      "outputs": []
    },
    {
      "cell_type": "code",
      "metadata": {
        "id": "YD3QcEgfpB9S",
        "colab_type": "code",
        "outputId": "32f3dfd8-ac99-4aae-e9ea-309b860aaecc",
        "colab": {
          "base_uri": "https://localhost:8080/",
          "height": 105
        }
      },
      "source": [
        "\n",
        "df = pd.read_csv(\"https://raw.githubusercontent.com/pascalisnala/skripsi-machinelearning/master/dataset/data_pascal2.csv\")\n",
        "df.sample(2)"
      ],
      "execution_count": 37,
      "outputs": [
        {
          "output_type": "execute_result",
          "data": {
            "text/html": [
              "<div>\n",
              "<style scoped>\n",
              "    .dataframe tbody tr th:only-of-type {\n",
              "        vertical-align: middle;\n",
              "    }\n",
              "\n",
              "    .dataframe tbody tr th {\n",
              "        vertical-align: top;\n",
              "    }\n",
              "\n",
              "    .dataframe thead th {\n",
              "        text-align: right;\n",
              "    }\n",
              "</style>\n",
              "<table border=\"1\" class=\"dataframe\">\n",
              "  <thead>\n",
              "    <tr style=\"text-align: right;\">\n",
              "      <th></th>\n",
              "      <th>timestamp</th>\n",
              "      <th>heart_rate</th>\n",
              "      <th>alpha_high</th>\n",
              "      <th>alpha_low</th>\n",
              "      <th>beta_high</th>\n",
              "      <th>beta_low</th>\n",
              "      <th>gamma_low</th>\n",
              "      <th>delta</th>\n",
              "      <th>theta</th>\n",
              "      <th>left_eye_open_prob</th>\n",
              "      <th>right_eye_open_prob</th>\n",
              "      <th>is_drowsy</th>\n",
              "    </tr>\n",
              "  </thead>\n",
              "  <tbody>\n",
              "    <tr>\n",
              "      <th>3247</th>\n",
              "      <td>1586274987181</td>\n",
              "      <td>63.0</td>\n",
              "      <td>8416.0</td>\n",
              "      <td>5170.0</td>\n",
              "      <td>3344.0</td>\n",
              "      <td>4814.0</td>\n",
              "      <td>9801.0</td>\n",
              "      <td>282728.0</td>\n",
              "      <td>13794.0</td>\n",
              "      <td>0.995686</td>\n",
              "      <td>0.993952</td>\n",
              "      <td>0</td>\n",
              "    </tr>\n",
              "    <tr>\n",
              "      <th>6992</th>\n",
              "      <td>1586275625871</td>\n",
              "      <td>73.0</td>\n",
              "      <td>15694.0</td>\n",
              "      <td>10212.0</td>\n",
              "      <td>13431.0</td>\n",
              "      <td>6264.0</td>\n",
              "      <td>12485.0</td>\n",
              "      <td>498408.0</td>\n",
              "      <td>136965.0</td>\n",
              "      <td>0.004563</td>\n",
              "      <td>0.010437</td>\n",
              "      <td>0</td>\n",
              "    </tr>\n",
              "  </tbody>\n",
              "</table>\n",
              "</div>"
            ],
            "text/plain": [
              "          timestamp  heart_rate  ...  right_eye_open_prob  is_drowsy\n",
              "3247  1586274987181        63.0  ...             0.993952          0\n",
              "6992  1586275625871        73.0  ...             0.010437          0\n",
              "\n",
              "[2 rows x 12 columns]"
            ]
          },
          "metadata": {
            "tags": []
          },
          "execution_count": 37
        }
      ]
    },
    {
      "cell_type": "code",
      "metadata": {
        "id": "NUhzgV8B7zKg",
        "colab_type": "code",
        "colab": {
          "base_uri": "https://localhost:8080/",
          "height": 105
        },
        "outputId": "c52874bf-6ab3-4ca9-fa4d-3ef4dd16dba1"
      },
      "source": [
        "df2 = pd.read_csv(\"https://raw.githubusercontent.com/pascalisnala/skripsi-machinelearning/master/dataset/data_yohannes.csv\")\n",
        "df2.sample(2)"
      ],
      "execution_count": 38,
      "outputs": [
        {
          "output_type": "execute_result",
          "data": {
            "text/html": [
              "<div>\n",
              "<style scoped>\n",
              "    .dataframe tbody tr th:only-of-type {\n",
              "        vertical-align: middle;\n",
              "    }\n",
              "\n",
              "    .dataframe tbody tr th {\n",
              "        vertical-align: top;\n",
              "    }\n",
              "\n",
              "    .dataframe thead th {\n",
              "        text-align: right;\n",
              "    }\n",
              "</style>\n",
              "<table border=\"1\" class=\"dataframe\">\n",
              "  <thead>\n",
              "    <tr style=\"text-align: right;\">\n",
              "      <th></th>\n",
              "      <th>timestamp</th>\n",
              "      <th>heart_rate</th>\n",
              "      <th>alpha_high</th>\n",
              "      <th>alpha_low</th>\n",
              "      <th>beta_high</th>\n",
              "      <th>beta_low</th>\n",
              "      <th>gamma_low</th>\n",
              "      <th>delta</th>\n",
              "      <th>theta</th>\n",
              "      <th>left_eye_open_prob</th>\n",
              "      <th>right_eye_open_prob</th>\n",
              "      <th>is_drowsy</th>\n",
              "    </tr>\n",
              "  </thead>\n",
              "  <tbody>\n",
              "    <tr>\n",
              "      <th>6922</th>\n",
              "      <td>1585469166120</td>\n",
              "      <td>80.0</td>\n",
              "      <td>12242.0</td>\n",
              "      <td>16767324.0</td>\n",
              "      <td>12399.0</td>\n",
              "      <td>19654.0</td>\n",
              "      <td>3709.0</td>\n",
              "      <td>836410.0</td>\n",
              "      <td>16772360.0</td>\n",
              "      <td>0.539412</td>\n",
              "      <td>0.025023</td>\n",
              "      <td>0</td>\n",
              "    </tr>\n",
              "    <tr>\n",
              "      <th>16264</th>\n",
              "      <td>1585470676945</td>\n",
              "      <td>84.0</td>\n",
              "      <td>1846.0</td>\n",
              "      <td>6679.0</td>\n",
              "      <td>6635.0</td>\n",
              "      <td>7533.0</td>\n",
              "      <td>2372.0</td>\n",
              "      <td>417436.0</td>\n",
              "      <td>16769971.0</td>\n",
              "      <td>0.995686</td>\n",
              "      <td>0.998022</td>\n",
              "      <td>1</td>\n",
              "    </tr>\n",
              "  </tbody>\n",
              "</table>\n",
              "</div>"
            ],
            "text/plain": [
              "           timestamp  heart_rate  ...  right_eye_open_prob  is_drowsy\n",
              "6922   1585469166120        80.0  ...             0.025023          0\n",
              "16264  1585470676945        84.0  ...             0.998022          1\n",
              "\n",
              "[2 rows x 12 columns]"
            ]
          },
          "metadata": {
            "tags": []
          },
          "execution_count": 38
        }
      ]
    },
    {
      "cell_type": "code",
      "metadata": {
        "id": "eGrXnksypB9t",
        "colab_type": "code",
        "outputId": "a136345a-badd-44f3-a0ed-374809c2622e",
        "colab": {
          "base_uri": "https://localhost:8080/",
          "height": 326
        }
      },
      "source": [
        "df.info()"
      ],
      "execution_count": 39,
      "outputs": [
        {
          "output_type": "stream",
          "text": [
            "<class 'pandas.core.frame.DataFrame'>\n",
            "RangeIndex: 26141 entries, 0 to 26140\n",
            "Data columns (total 12 columns):\n",
            " #   Column               Non-Null Count  Dtype  \n",
            "---  ------               --------------  -----  \n",
            " 0   timestamp            26141 non-null  int64  \n",
            " 1   heart_rate           25506 non-null  float64\n",
            " 2   alpha_high           25451 non-null  float64\n",
            " 3   alpha_low            25451 non-null  float64\n",
            " 4   beta_high            25451 non-null  float64\n",
            " 5   beta_low             25451 non-null  float64\n",
            " 6   gamma_low            25451 non-null  float64\n",
            " 7   delta                25451 non-null  float64\n",
            " 8   theta                25451 non-null  float64\n",
            " 9   left_eye_open_prob   26141 non-null  float64\n",
            " 10  right_eye_open_prob  26141 non-null  float64\n",
            " 11  is_drowsy            26141 non-null  int64  \n",
            "dtypes: float64(10), int64(2)\n",
            "memory usage: 2.4 MB\n"
          ],
          "name": "stdout"
        }
      ]
    },
    {
      "cell_type": "code",
      "metadata": {
        "id": "twkKUHq68CAh",
        "colab_type": "code",
        "colab": {
          "base_uri": "https://localhost:8080/",
          "height": 326
        },
        "outputId": "b0c5452a-53ee-472b-e58c-010367b1670d"
      },
      "source": [
        "df2.info()"
      ],
      "execution_count": 40,
      "outputs": [
        {
          "output_type": "stream",
          "text": [
            "<class 'pandas.core.frame.DataFrame'>\n",
            "RangeIndex: 28529 entries, 0 to 28528\n",
            "Data columns (total 12 columns):\n",
            " #   Column               Non-Null Count  Dtype  \n",
            "---  ------               --------------  -----  \n",
            " 0   timestamp            28529 non-null  int64  \n",
            " 1   heart_rate           28435 non-null  float64\n",
            " 2   alpha_high           28483 non-null  float64\n",
            " 3   alpha_low            28483 non-null  float64\n",
            " 4   beta_high            28483 non-null  float64\n",
            " 5   beta_low             28483 non-null  float64\n",
            " 6   gamma_low            28483 non-null  float64\n",
            " 7   delta                28483 non-null  float64\n",
            " 8   theta                28483 non-null  float64\n",
            " 9   left_eye_open_prob   28529 non-null  float64\n",
            " 10  right_eye_open_prob  28529 non-null  float64\n",
            " 11  is_drowsy            28529 non-null  int64  \n",
            "dtypes: float64(10), int64(2)\n",
            "memory usage: 2.6 MB\n"
          ],
          "name": "stdout"
        }
      ]
    },
    {
      "cell_type": "code",
      "metadata": {
        "id": "5m1Vka3JpB92",
        "colab_type": "code",
        "outputId": "9b3b8664-8d2c-4da2-c663-3fd5afecc120",
        "colab": {
          "base_uri": "https://localhost:8080/",
          "height": 105
        }
      },
      "source": [
        "df.dropna(inplace=True)\n",
        "df.sample(2)"
      ],
      "execution_count": 41,
      "outputs": [
        {
          "output_type": "execute_result",
          "data": {
            "text/html": [
              "<div>\n",
              "<style scoped>\n",
              "    .dataframe tbody tr th:only-of-type {\n",
              "        vertical-align: middle;\n",
              "    }\n",
              "\n",
              "    .dataframe tbody tr th {\n",
              "        vertical-align: top;\n",
              "    }\n",
              "\n",
              "    .dataframe thead th {\n",
              "        text-align: right;\n",
              "    }\n",
              "</style>\n",
              "<table border=\"1\" class=\"dataframe\">\n",
              "  <thead>\n",
              "    <tr style=\"text-align: right;\">\n",
              "      <th></th>\n",
              "      <th>timestamp</th>\n",
              "      <th>heart_rate</th>\n",
              "      <th>alpha_high</th>\n",
              "      <th>alpha_low</th>\n",
              "      <th>beta_high</th>\n",
              "      <th>beta_low</th>\n",
              "      <th>gamma_low</th>\n",
              "      <th>delta</th>\n",
              "      <th>theta</th>\n",
              "      <th>left_eye_open_prob</th>\n",
              "      <th>right_eye_open_prob</th>\n",
              "      <th>is_drowsy</th>\n",
              "    </tr>\n",
              "  </thead>\n",
              "  <tbody>\n",
              "    <tr>\n",
              "      <th>5998</th>\n",
              "      <td>1586275459006</td>\n",
              "      <td>63.0</td>\n",
              "      <td>4029.0</td>\n",
              "      <td>5561.0</td>\n",
              "      <td>3919.0</td>\n",
              "      <td>2305.0</td>\n",
              "      <td>1840.0</td>\n",
              "      <td>252195.0</td>\n",
              "      <td>27800.0</td>\n",
              "      <td>0.993816</td>\n",
              "      <td>0.995583</td>\n",
              "      <td>0</td>\n",
              "    </tr>\n",
              "    <tr>\n",
              "      <th>25058</th>\n",
              "      <td>1586279068932</td>\n",
              "      <td>68.0</td>\n",
              "      <td>32212.0</td>\n",
              "      <td>31605.0</td>\n",
              "      <td>30044.0</td>\n",
              "      <td>4613.0</td>\n",
              "      <td>9613.0</td>\n",
              "      <td>92682.0</td>\n",
              "      <td>22331.0</td>\n",
              "      <td>0.991369</td>\n",
              "      <td>0.993275</td>\n",
              "      <td>1</td>\n",
              "    </tr>\n",
              "  </tbody>\n",
              "</table>\n",
              "</div>"
            ],
            "text/plain": [
              "           timestamp  heart_rate  ...  right_eye_open_prob  is_drowsy\n",
              "5998   1586275459006        63.0  ...             0.995583          0\n",
              "25058  1586279068932        68.0  ...             0.993275          1\n",
              "\n",
              "[2 rows x 12 columns]"
            ]
          },
          "metadata": {
            "tags": []
          },
          "execution_count": 41
        }
      ]
    },
    {
      "cell_type": "code",
      "metadata": {
        "id": "CouvpwNh8FNf",
        "colab_type": "code",
        "colab": {
          "base_uri": "https://localhost:8080/",
          "height": 105
        },
        "outputId": "81a52344-a025-478b-b2e2-dcf338ec338b"
      },
      "source": [
        "df2.dropna(inplace=True)\n",
        "df2.sample(2)"
      ],
      "execution_count": 42,
      "outputs": [
        {
          "output_type": "execute_result",
          "data": {
            "text/html": [
              "<div>\n",
              "<style scoped>\n",
              "    .dataframe tbody tr th:only-of-type {\n",
              "        vertical-align: middle;\n",
              "    }\n",
              "\n",
              "    .dataframe tbody tr th {\n",
              "        vertical-align: top;\n",
              "    }\n",
              "\n",
              "    .dataframe thead th {\n",
              "        text-align: right;\n",
              "    }\n",
              "</style>\n",
              "<table border=\"1\" class=\"dataframe\">\n",
              "  <thead>\n",
              "    <tr style=\"text-align: right;\">\n",
              "      <th></th>\n",
              "      <th>timestamp</th>\n",
              "      <th>heart_rate</th>\n",
              "      <th>alpha_high</th>\n",
              "      <th>alpha_low</th>\n",
              "      <th>beta_high</th>\n",
              "      <th>beta_low</th>\n",
              "      <th>gamma_low</th>\n",
              "      <th>delta</th>\n",
              "      <th>theta</th>\n",
              "      <th>left_eye_open_prob</th>\n",
              "      <th>right_eye_open_prob</th>\n",
              "      <th>is_drowsy</th>\n",
              "    </tr>\n",
              "  </thead>\n",
              "  <tbody>\n",
              "    <tr>\n",
              "      <th>6259</th>\n",
              "      <td>1585469059304</td>\n",
              "      <td>83.0</td>\n",
              "      <td>23567.0</td>\n",
              "      <td>16750093.0</td>\n",
              "      <td>18391.0</td>\n",
              "      <td>11593.0</td>\n",
              "      <td>31895.0</td>\n",
              "      <td>2300886.0</td>\n",
              "      <td>468115.0</td>\n",
              "      <td>0.985082</td>\n",
              "      <td>0.995264</td>\n",
              "      <td>0</td>\n",
              "    </tr>\n",
              "    <tr>\n",
              "      <th>19440</th>\n",
              "      <td>1585471193447</td>\n",
              "      <td>77.0</td>\n",
              "      <td>3936.0</td>\n",
              "      <td>16745118.0</td>\n",
              "      <td>4405.0</td>\n",
              "      <td>8062.0</td>\n",
              "      <td>1267.0</td>\n",
              "      <td>958823.0</td>\n",
              "      <td>16760030.0</td>\n",
              "      <td>0.889815</td>\n",
              "      <td>0.996212</td>\n",
              "      <td>1</td>\n",
              "    </tr>\n",
              "  </tbody>\n",
              "</table>\n",
              "</div>"
            ],
            "text/plain": [
              "           timestamp  heart_rate  ...  right_eye_open_prob  is_drowsy\n",
              "6259   1585469059304        83.0  ...             0.995264          0\n",
              "19440  1585471193447        77.0  ...             0.996212          1\n",
              "\n",
              "[2 rows x 12 columns]"
            ]
          },
          "metadata": {
            "tags": []
          },
          "execution_count": 42
        }
      ]
    },
    {
      "cell_type": "code",
      "metadata": {
        "id": "MewkNnPRpB-A",
        "colab_type": "code",
        "colab": {}
      },
      "source": [
        "def valid_value_only(df):\n",
        "    df = df[df[\"heart_rate\"]>=0]\n",
        "    df = df[df[\"alpha_high\"]<=15770057.0]\n",
        "    df = df[df[\"alpha_low\"]<=15770057.0]\n",
        "    df = df[df[\"beta_high\"]<=15770057.0]\n",
        "    df = df[df[\"beta_low\"]<=15770057.0]\n",
        "    df = df[df[\"gamma_low\"]<=15770057.0]\n",
        "    df = df[df[\"delta\"]<=15770057.0]\n",
        "    df = df[df[\"theta\"]<=15770057.0]\n",
        "    return df\n",
        "    \n",
        "def data_preprocessing(df):\n",
        "    df.dropna(inplace=True)\n",
        "    df = valid_value_only(df)\n",
        "    df['timestamp'] = pd.to_datetime(df['timestamp']/1000,unit='s')\n",
        "    df.set_index(\"timestamp\",inplace=True)\n",
        "    for x in df.columns:\n",
        "        if (x!=\"left_eye_open_prob\" and x!=\"right_eye_open_prob\" and x!=\"target\" and x!=\"is_drowsy\"):\n",
        "            # df[x] = df[x].pct_change()\n",
        "            df.replace([np.inf, -np.inf], np.nan, inplace=True)\n",
        "            df.dropna(inplace=True)\n",
        "            # df[x] = preprocessing.scale(df[x].values)\n",
        "    return df"
      ],
      "execution_count": 0,
      "outputs": []
    },
    {
      "cell_type": "code",
      "metadata": {
        "id": "EmRs8bkHpB-G",
        "colab_type": "code",
        "colab": {}
      },
      "source": [
        "def create_data(df,seq_len,future_period):\n",
        "    df[\"target\"] = df[\"is_drowsy\"].shift(-future_period)\n",
        "    df.dropna(inplace=True)\n",
        "    df[\"target\"] = df[\"target\"].astype('Int64')\n",
        "    df = df[[\"heart_rate\",\"alpha_high\",\"left_eye_open_prob\",\"right_eye_open_prob\",\"target\"]]\n",
        "    sequential_data = []\n",
        "    prev_state = deque(maxlen=seq_len)\n",
        "    for i in df.values:\n",
        "        prev_state.append([n for n in i[:-1]])\n",
        "        if len(prev_state)==seq_len:\n",
        "            sequential_data.append([np.array(prev_state), i[-1]])\n",
        "    return df, sequential_data"
      ],
      "execution_count": 0,
      "outputs": []
    },
    {
      "cell_type": "code",
      "metadata": {
        "id": "aIPlDeT8pB-L",
        "colab_type": "code",
        "outputId": "d6e8baa2-f43d-44db-973e-5c524aba74d1",
        "colab": {
          "base_uri": "https://localhost:8080/",
          "height": 166
        }
      },
      "source": [
        "df = data_preprocessing(df)\n",
        "df.sample(2)"
      ],
      "execution_count": 45,
      "outputs": [
        {
          "output_type": "execute_result",
          "data": {
            "text/html": [
              "<div>\n",
              "<style scoped>\n",
              "    .dataframe tbody tr th:only-of-type {\n",
              "        vertical-align: middle;\n",
              "    }\n",
              "\n",
              "    .dataframe tbody tr th {\n",
              "        vertical-align: top;\n",
              "    }\n",
              "\n",
              "    .dataframe thead th {\n",
              "        text-align: right;\n",
              "    }\n",
              "</style>\n",
              "<table border=\"1\" class=\"dataframe\">\n",
              "  <thead>\n",
              "    <tr style=\"text-align: right;\">\n",
              "      <th></th>\n",
              "      <th>heart_rate</th>\n",
              "      <th>alpha_high</th>\n",
              "      <th>alpha_low</th>\n",
              "      <th>beta_high</th>\n",
              "      <th>beta_low</th>\n",
              "      <th>gamma_low</th>\n",
              "      <th>delta</th>\n",
              "      <th>theta</th>\n",
              "      <th>left_eye_open_prob</th>\n",
              "      <th>right_eye_open_prob</th>\n",
              "      <th>is_drowsy</th>\n",
              "    </tr>\n",
              "    <tr>\n",
              "      <th>timestamp</th>\n",
              "      <th></th>\n",
              "      <th></th>\n",
              "      <th></th>\n",
              "      <th></th>\n",
              "      <th></th>\n",
              "      <th></th>\n",
              "      <th></th>\n",
              "      <th></th>\n",
              "      <th></th>\n",
              "      <th></th>\n",
              "      <th></th>\n",
              "    </tr>\n",
              "  </thead>\n",
              "  <tbody>\n",
              "    <tr>\n",
              "      <th>2020-04-07 16:31:41.551000118</th>\n",
              "      <td>59.0</td>\n",
              "      <td>68170.0</td>\n",
              "      <td>17826.0</td>\n",
              "      <td>32571.0</td>\n",
              "      <td>26991.0</td>\n",
              "      <td>29434.0</td>\n",
              "      <td>1653532.0</td>\n",
              "      <td>285609.0</td>\n",
              "      <td>0.945900</td>\n",
              "      <td>0.683255</td>\n",
              "      <td>0</td>\n",
              "    </tr>\n",
              "    <tr>\n",
              "      <th>2020-04-07 16:57:17.065999985</th>\n",
              "      <td>79.0</td>\n",
              "      <td>988.0</td>\n",
              "      <td>9695.0</td>\n",
              "      <td>3305.0</td>\n",
              "      <td>3396.0</td>\n",
              "      <td>6149.0</td>\n",
              "      <td>143428.0</td>\n",
              "      <td>12896.0</td>\n",
              "      <td>0.993816</td>\n",
              "      <td>0.990413</td>\n",
              "      <td>1</td>\n",
              "    </tr>\n",
              "  </tbody>\n",
              "</table>\n",
              "</div>"
            ],
            "text/plain": [
              "                               heart_rate  ...  is_drowsy\n",
              "timestamp                                  ...           \n",
              "2020-04-07 16:31:41.551000118        59.0  ...          0\n",
              "2020-04-07 16:57:17.065999985        79.0  ...          1\n",
              "\n",
              "[2 rows x 11 columns]"
            ]
          },
          "metadata": {
            "tags": []
          },
          "execution_count": 45
        }
      ]
    },
    {
      "cell_type": "code",
      "metadata": {
        "id": "j0EhjjfJ8KhF",
        "colab_type": "code",
        "colab": {
          "base_uri": "https://localhost:8080/",
          "height": 105
        },
        "outputId": "d4ca1fc1-a2fd-4aa8-fcce-3851c46ee39f"
      },
      "source": [
        "df = data_preprocessing(df2)\n",
        "df2.sample(2)"
      ],
      "execution_count": 46,
      "outputs": [
        {
          "output_type": "execute_result",
          "data": {
            "text/html": [
              "<div>\n",
              "<style scoped>\n",
              "    .dataframe tbody tr th:only-of-type {\n",
              "        vertical-align: middle;\n",
              "    }\n",
              "\n",
              "    .dataframe tbody tr th {\n",
              "        vertical-align: top;\n",
              "    }\n",
              "\n",
              "    .dataframe thead th {\n",
              "        text-align: right;\n",
              "    }\n",
              "</style>\n",
              "<table border=\"1\" class=\"dataframe\">\n",
              "  <thead>\n",
              "    <tr style=\"text-align: right;\">\n",
              "      <th></th>\n",
              "      <th>timestamp</th>\n",
              "      <th>heart_rate</th>\n",
              "      <th>alpha_high</th>\n",
              "      <th>alpha_low</th>\n",
              "      <th>beta_high</th>\n",
              "      <th>beta_low</th>\n",
              "      <th>gamma_low</th>\n",
              "      <th>delta</th>\n",
              "      <th>theta</th>\n",
              "      <th>left_eye_open_prob</th>\n",
              "      <th>right_eye_open_prob</th>\n",
              "      <th>is_drowsy</th>\n",
              "    </tr>\n",
              "  </thead>\n",
              "  <tbody>\n",
              "    <tr>\n",
              "      <th>14788</th>\n",
              "      <td>1585470437579</td>\n",
              "      <td>95.0</td>\n",
              "      <td>2343.0</td>\n",
              "      <td>3183.0</td>\n",
              "      <td>2439.0</td>\n",
              "      <td>3458.0</td>\n",
              "      <td>782.0</td>\n",
              "      <td>156078.0</td>\n",
              "      <td>10172.0</td>\n",
              "      <td>0.038779</td>\n",
              "      <td>0.872311</td>\n",
              "      <td>1</td>\n",
              "    </tr>\n",
              "    <tr>\n",
              "      <th>17388</th>\n",
              "      <td>1585470860561</td>\n",
              "      <td>100.0</td>\n",
              "      <td>5756.0</td>\n",
              "      <td>17651.0</td>\n",
              "      <td>4407.0</td>\n",
              "      <td>938.0</td>\n",
              "      <td>2161.0</td>\n",
              "      <td>144595.0</td>\n",
              "      <td>16764853.0</td>\n",
              "      <td>0.984551</td>\n",
              "      <td>0.993616</td>\n",
              "      <td>1</td>\n",
              "    </tr>\n",
              "  </tbody>\n",
              "</table>\n",
              "</div>"
            ],
            "text/plain": [
              "           timestamp  heart_rate  ...  right_eye_open_prob  is_drowsy\n",
              "14788  1585470437579        95.0  ...             0.872311          1\n",
              "17388  1585470860561       100.0  ...             0.993616          1\n",
              "\n",
              "[2 rows x 12 columns]"
            ]
          },
          "metadata": {
            "tags": []
          },
          "execution_count": 46
        }
      ]
    },
    {
      "cell_type": "code",
      "metadata": {
        "id": "1PKhSS_GpB-b",
        "colab_type": "code",
        "outputId": "3b5a84bd-36fc-412f-f60a-97a38bc4e1db",
        "colab": {
          "base_uri": "https://localhost:8080/",
          "height": 133
        }
      },
      "source": [
        "SEQ_LEN = 3000\n",
        "FUTURE_PERIOD_PREDICT = 1500\n",
        "df, sequential_data = create_data(df,SEQ_LEN,FUTURE_PERIOD_PREDICT)\n",
        "df.sample(2)"
      ],
      "execution_count": 47,
      "outputs": [
        {
          "output_type": "execute_result",
          "data": {
            "text/html": [
              "<div>\n",
              "<style scoped>\n",
              "    .dataframe tbody tr th:only-of-type {\n",
              "        vertical-align: middle;\n",
              "    }\n",
              "\n",
              "    .dataframe tbody tr th {\n",
              "        vertical-align: top;\n",
              "    }\n",
              "\n",
              "    .dataframe thead th {\n",
              "        text-align: right;\n",
              "    }\n",
              "</style>\n",
              "<table border=\"1\" class=\"dataframe\">\n",
              "  <thead>\n",
              "    <tr style=\"text-align: right;\">\n",
              "      <th></th>\n",
              "      <th>heart_rate</th>\n",
              "      <th>alpha_high</th>\n",
              "      <th>left_eye_open_prob</th>\n",
              "      <th>right_eye_open_prob</th>\n",
              "      <th>target</th>\n",
              "    </tr>\n",
              "    <tr>\n",
              "      <th>timestamp</th>\n",
              "      <th></th>\n",
              "      <th></th>\n",
              "      <th></th>\n",
              "      <th></th>\n",
              "      <th></th>\n",
              "    </tr>\n",
              "  </thead>\n",
              "  <tbody>\n",
              "    <tr>\n",
              "      <th>2020-03-29 08:33:42.473999977</th>\n",
              "      <td>93.0</td>\n",
              "      <td>1737.0</td>\n",
              "      <td>0.986606</td>\n",
              "      <td>0.994941</td>\n",
              "      <td>1</td>\n",
              "    </tr>\n",
              "    <tr>\n",
              "      <th>2020-03-29 08:28:53.759999990</th>\n",
              "      <td>84.0</td>\n",
              "      <td>14246.0</td>\n",
              "      <td>0.951442</td>\n",
              "      <td>0.986117</td>\n",
              "      <td>1</td>\n",
              "    </tr>\n",
              "  </tbody>\n",
              "</table>\n",
              "</div>"
            ],
            "text/plain": [
              "                               heart_rate  ...  target\n",
              "timestamp                                  ...        \n",
              "2020-03-29 08:33:42.473999977        93.0  ...       1\n",
              "2020-03-29 08:28:53.759999990        84.0  ...       1\n",
              "\n",
              "[2 rows x 5 columns]"
            ]
          },
          "metadata": {
            "tags": []
          },
          "execution_count": 47
        }
      ]
    },
    {
      "cell_type": "code",
      "metadata": {
        "id": "Wzqqad1a8_VS",
        "colab_type": "code",
        "colab": {
          "base_uri": "https://localhost:8080/",
          "height": 133
        },
        "outputId": "d93fee9f-e902-4d12-ba4d-88a6f33819c1"
      },
      "source": [
        "df.sample(2)"
      ],
      "execution_count": 54,
      "outputs": [
        {
          "output_type": "execute_result",
          "data": {
            "text/html": [
              "<div>\n",
              "<style scoped>\n",
              "    .dataframe tbody tr th:only-of-type {\n",
              "        vertical-align: middle;\n",
              "    }\n",
              "\n",
              "    .dataframe tbody tr th {\n",
              "        vertical-align: top;\n",
              "    }\n",
              "\n",
              "    .dataframe thead th {\n",
              "        text-align: right;\n",
              "    }\n",
              "</style>\n",
              "<table border=\"1\" class=\"dataframe\">\n",
              "  <thead>\n",
              "    <tr style=\"text-align: right;\">\n",
              "      <th></th>\n",
              "      <th>heart_rate</th>\n",
              "      <th>alpha_high</th>\n",
              "      <th>left_eye_open_prob</th>\n",
              "      <th>right_eye_open_prob</th>\n",
              "      <th>target</th>\n",
              "    </tr>\n",
              "    <tr>\n",
              "      <th>timestamp</th>\n",
              "      <th></th>\n",
              "      <th></th>\n",
              "      <th></th>\n",
              "      <th></th>\n",
              "      <th></th>\n",
              "    </tr>\n",
              "  </thead>\n",
              "  <tbody>\n",
              "    <tr>\n",
              "      <th>2020-03-29 08:42:34.128000020</th>\n",
              "      <td>81.0</td>\n",
              "      <td>4709.0</td>\n",
              "      <td>0.995686</td>\n",
              "      <td>0.987686</td>\n",
              "      <td>1</td>\n",
              "    </tr>\n",
              "    <tr>\n",
              "      <th>2020-03-29 07:55:46.878999949</th>\n",
              "      <td>84.0</td>\n",
              "      <td>77657.0</td>\n",
              "      <td>0.804988</td>\n",
              "      <td>0.996827</td>\n",
              "      <td>0</td>\n",
              "    </tr>\n",
              "  </tbody>\n",
              "</table>\n",
              "</div>"
            ],
            "text/plain": [
              "                               heart_rate  ...  target\n",
              "timestamp                                  ...        \n",
              "2020-03-29 08:42:34.128000020        81.0  ...       1\n",
              "2020-03-29 07:55:46.878999949        84.0  ...       0\n",
              "\n",
              "[2 rows x 5 columns]"
            ]
          },
          "metadata": {
            "tags": []
          },
          "execution_count": 54
        }
      ]
    },
    {
      "cell_type": "code",
      "metadata": {
        "id": "cZODVo6W8U5B",
        "colab_type": "code",
        "colab": {
          "base_uri": "https://localhost:8080/",
          "height": 105
        },
        "outputId": "1709eef2-c7c1-4e20-c57f-06c82818a853"
      },
      "source": [
        "df2, sequential_data2 = create_data(df2,SEQ_LEN,FUTURE_PERIOD_PREDICT)\n",
        "df2.sample(2)"
      ],
      "execution_count": 55,
      "outputs": [
        {
          "output_type": "execute_result",
          "data": {
            "text/html": [
              "<div>\n",
              "<style scoped>\n",
              "    .dataframe tbody tr th:only-of-type {\n",
              "        vertical-align: middle;\n",
              "    }\n",
              "\n",
              "    .dataframe tbody tr th {\n",
              "        vertical-align: top;\n",
              "    }\n",
              "\n",
              "    .dataframe thead th {\n",
              "        text-align: right;\n",
              "    }\n",
              "</style>\n",
              "<table border=\"1\" class=\"dataframe\">\n",
              "  <thead>\n",
              "    <tr style=\"text-align: right;\">\n",
              "      <th></th>\n",
              "      <th>heart_rate</th>\n",
              "      <th>alpha_high</th>\n",
              "      <th>left_eye_open_prob</th>\n",
              "      <th>right_eye_open_prob</th>\n",
              "      <th>target</th>\n",
              "    </tr>\n",
              "  </thead>\n",
              "  <tbody>\n",
              "    <tr>\n",
              "      <th>12376</th>\n",
              "      <td>89.0</td>\n",
              "      <td>71065.0</td>\n",
              "      <td>0.972051</td>\n",
              "      <td>0.983414</td>\n",
              "      <td>1</td>\n",
              "    </tr>\n",
              "    <tr>\n",
              "      <th>17118</th>\n",
              "      <td>90.0</td>\n",
              "      <td>13630.0</td>\n",
              "      <td>0.991869</td>\n",
              "      <td>0.992231</td>\n",
              "      <td>1</td>\n",
              "    </tr>\n",
              "  </tbody>\n",
              "</table>\n",
              "</div>"
            ],
            "text/plain": [
              "       heart_rate  alpha_high  left_eye_open_prob  right_eye_open_prob  target\n",
              "12376        89.0     71065.0            0.972051             0.983414       1\n",
              "17118        90.0     13630.0            0.991869             0.992231       1"
            ]
          },
          "metadata": {
            "tags": []
          },
          "execution_count": 55
        }
      ]
    },
    {
      "cell_type": "code",
      "metadata": {
        "id": "wdD1yfli8gBm",
        "colab_type": "code",
        "colab": {}
      },
      "source": [
        "sequential_data = sequential_data + sequential_data2"
      ],
      "execution_count": 0,
      "outputs": []
    },
    {
      "cell_type": "code",
      "metadata": {
        "id": "DIt8vV8ipB-f",
        "colab_type": "code",
        "colab": {}
      },
      "source": [
        "drowsy=[]\n",
        "alert=[]\n",
        "for seq, target in sequential_data:\n",
        "    if target==0:\n",
        "        drowsy.append([seq,target])\n",
        "    else:\n",
        "        alert.append([seq,target])\n",
        "\n",
        "random.shuffle(drowsy)\n",
        "random.shuffle(alert)\n",
        "\n",
        "lower = min(len(drowsy), len(alert))\n",
        "\n",
        "drowsy = drowsy[:lower]\n",
        "alert = alert[:lower]\n",
        "\n",
        "sequential_data = drowsy + alert\n",
        "random.shuffle(sequential_data)"
      ],
      "execution_count": 0,
      "outputs": []
    },
    {
      "cell_type": "code",
      "metadata": {
        "id": "m_KtiSFGpB-o",
        "colab_type": "code",
        "colab": {}
      },
      "source": [
        "def create_training_label_data(sequential_data): \n",
        "    X = []\n",
        "    y =[]\n",
        "    for seq, target in sequential_data:\n",
        "        X.append(seq)\n",
        "        y.append(target)\n",
        "    return np.array(X),np.array(y)"
      ],
      "execution_count": 0,
      "outputs": []
    },
    {
      "cell_type": "code",
      "metadata": {
        "id": "Ndn2vkPxpB_F",
        "colab_type": "code",
        "colab": {}
      },
      "source": [
        "X,y = create_training_label_data(sequential_data)"
      ],
      "execution_count": 0,
      "outputs": []
    },
    {
      "cell_type": "code",
      "metadata": {
        "id": "FmrfarscpB_S",
        "colab_type": "code",
        "outputId": "189b74c8-1e99-4412-ea9c-1b90584d8f71",
        "colab": {
          "base_uri": "https://localhost:8080/",
          "height": 115
        }
      },
      "source": [
        "EPOCHS = 3\n",
        "BATCH_SIZE = 64\n",
        "NAME = f\"LSTM-SKRIPSI-{SEQ_LEN}-SEQ-{FUTURE_PERIOD_PREDICT}-PRED-{int(time.time())}\"\n",
        "\n",
        "model = Sequential()\n",
        "model.add(LSTM(128, input_shape=X.shape[1:], return_sequences=True))\n",
        "model.add(Dropout(0.2))\n",
        "model.add(BatchNormalization())\n",
        "\n",
        "model.add(LSTM(128, input_shape=X.shape[1:], return_sequences=True))\n",
        "model.add(Dropout(0.2))\n",
        "model.add(BatchNormalization())\n",
        "\n",
        "model.add(LSTM(128, input_shape=X.shape[1:]))\n",
        "model.add(Dropout(0.1))\n",
        "model.add(BatchNormalization())\n",
        "\n",
        "model.add(Dense(64, activation=\"relu\"))\n",
        "model.add(Dropout(0.2))\n",
        "\n",
        "model.add(Dense(1, activation=\"sigmoid\"))\n",
        "\n",
        "opt = tf.keras.optimizers.Adam(lr=0.001, decay=1e-6)\n",
        "model.compile(loss=\"binary_crossentropy\",\n",
        "             optimizer=opt,\n",
        "             metrics=[\"accuracy\"])\n",
        "\n",
        "tensorboard = TensorBoard(log_dir=f'logs\\\\{NAME}')\n",
        "filepath = \"LSTM_Skripsi-{epoch:02d}-{val_acc:.3f}\"  # unique file name that will include the epoch and the validation acc for that epoch\n",
        "checkpoint = ModelCheckpoint(\"models/{}.model\".format(filepath, monitor='val_acc', verbose=1, save_best_only=True, mode='max')) # saves only the best ones\n",
        "\n",
        "\n",
        "history = model.fit(X,\n",
        "                   y,\n",
        "                   batch_size=BATCH_SIZE,\n",
        "                   epochs=EPOCHS,\n",
        "                   verbose=1)"
      ],
      "execution_count": 62,
      "outputs": [
        {
          "output_type": "stream",
          "text": [
            "Epoch 1/3\n",
            "303/303 [==============================] - 540s 2s/step - loss: 0.1639 - accuracy: 0.9445\n",
            "Epoch 2/3\n",
            "303/303 [==============================] - 539s 2s/step - loss: 0.1830 - accuracy: 0.9331\n",
            "Epoch 3/3\n",
            "303/303 [==============================] - 539s 2s/step - loss: 0.1864 - accuracy: 0.9376\n"
          ],
          "name": "stdout"
        }
      ]
    },
    {
      "cell_type": "code",
      "metadata": {
        "id": "Zp41oZB_s0zY",
        "colab_type": "code",
        "outputId": "61ae4bfa-a0c1-4efa-ef58-cce4920353a8",
        "colab": {
          "base_uri": "https://localhost:8080/",
          "height": 163
        }
      },
      "source": [
        "model_predict = model.predict(X)\n",
        "prediction = np.where(model_predict> 0.5, 1, 0)\n",
        "print(classification_report(prediction,y))"
      ],
      "execution_count": 63,
      "outputs": [
        {
          "output_type": "stream",
          "text": [
            "              precision    recall  f1-score   support\n",
            "\n",
            "           0       0.87      0.91      0.89      9245\n",
            "           1       0.91      0.87      0.89     10131\n",
            "\n",
            "    accuracy                           0.89     19376\n",
            "   macro avg       0.89      0.89      0.89     19376\n",
            "weighted avg       0.89      0.89      0.89     19376\n",
            "\n"
          ],
          "name": "stdout"
        }
      ]
    },
    {
      "cell_type": "code",
      "metadata": {
        "id": "6KYi2rQZE-3M",
        "colab_type": "code",
        "colab": {
          "base_uri": "https://localhost:8080/",
          "height": 33
        },
        "outputId": "1fcf05db-c3c8-42a4-dcee-2591ea1bb85f"
      },
      "source": [
        "print(f1_score(prediction,y))"
      ],
      "execution_count": 64,
      "outputs": [
        {
          "output_type": "stream",
          "text": [
            "0.8912659569100359\n"
          ],
          "name": "stdout"
        }
      ]
    },
    {
      "cell_type": "code",
      "metadata": {
        "id": "j3B8F4vltZcc",
        "colab_type": "code",
        "outputId": "eb26d7ba-4f7b-4472-82d6-4f4497820882",
        "colab": {
          "base_uri": "https://localhost:8080/",
          "height": 131
        }
      },
      "source": [
        "model_predict"
      ],
      "execution_count": 0,
      "outputs": [
        {
          "output_type": "execute_result",
          "data": {
            "text/plain": [
              "array([[0.9611082 ],\n",
              "       [0.7562449 ],\n",
              "       [0.9640582 ],\n",
              "       ...,\n",
              "       [0.833615  ],\n",
              "       [0.87276185],\n",
              "       [0.9575619 ]], dtype=float32)"
            ]
          },
          "metadata": {
            "tags": []
          },
          "execution_count": 41
        }
      ]
    },
    {
      "cell_type": "code",
      "metadata": {
        "id": "x_JKeU4epB_j",
        "colab_type": "code",
        "outputId": "2fb9cb3b-ebc7-4048-af36-284368a29078",
        "colab": {
          "base_uri": "https://localhost:8080/",
          "height": 105
        }
      },
      "source": [
        "df_test = pd.read_csv(\"https://raw.githubusercontent.com/pascalisnala/skripsi-machinelearning/master/dataset/data_pascal3.csv\")\n",
        "df_test.sample(2)"
      ],
      "execution_count": 65,
      "outputs": [
        {
          "output_type": "execute_result",
          "data": {
            "text/html": [
              "<div>\n",
              "<style scoped>\n",
              "    .dataframe tbody tr th:only-of-type {\n",
              "        vertical-align: middle;\n",
              "    }\n",
              "\n",
              "    .dataframe tbody tr th {\n",
              "        vertical-align: top;\n",
              "    }\n",
              "\n",
              "    .dataframe thead th {\n",
              "        text-align: right;\n",
              "    }\n",
              "</style>\n",
              "<table border=\"1\" class=\"dataframe\">\n",
              "  <thead>\n",
              "    <tr style=\"text-align: right;\">\n",
              "      <th></th>\n",
              "      <th>timestamp</th>\n",
              "      <th>heart_rate</th>\n",
              "      <th>alpha_high</th>\n",
              "      <th>alpha_low</th>\n",
              "      <th>beta_high</th>\n",
              "      <th>beta_low</th>\n",
              "      <th>gamma_low</th>\n",
              "      <th>delta</th>\n",
              "      <th>theta</th>\n",
              "      <th>left_eye_open_prob</th>\n",
              "      <th>right_eye_open_prob</th>\n",
              "      <th>is_drowsy</th>\n",
              "    </tr>\n",
              "  </thead>\n",
              "  <tbody>\n",
              "    <tr>\n",
              "      <th>20266</th>\n",
              "      <td>1586412880559</td>\n",
              "      <td>92.0</td>\n",
              "      <td>8542.0</td>\n",
              "      <td>31612.0</td>\n",
              "      <td>11960.0</td>\n",
              "      <td>14468.0</td>\n",
              "      <td>3260.0</td>\n",
              "      <td>1552286.0</td>\n",
              "      <td>16776223.0</td>\n",
              "      <td>0.997039</td>\n",
              "      <td>0.999449</td>\n",
              "      <td>0</td>\n",
              "    </tr>\n",
              "    <tr>\n",
              "      <th>3035</th>\n",
              "      <td>1586410656868</td>\n",
              "      <td>79.0</td>\n",
              "      <td>2016.0</td>\n",
              "      <td>186.0</td>\n",
              "      <td>2723.0</td>\n",
              "      <td>1121.0</td>\n",
              "      <td>4298.0</td>\n",
              "      <td>59436.0</td>\n",
              "      <td>17251.0</td>\n",
              "      <td>0.991869</td>\n",
              "      <td>0.995899</td>\n",
              "      <td>0</td>\n",
              "    </tr>\n",
              "  </tbody>\n",
              "</table>\n",
              "</div>"
            ],
            "text/plain": [
              "           timestamp  heart_rate  ...  right_eye_open_prob  is_drowsy\n",
              "20266  1586412880559        92.0  ...             0.999449          0\n",
              "3035   1586410656868        79.0  ...             0.995899          0\n",
              "\n",
              "[2 rows x 12 columns]"
            ]
          },
          "metadata": {
            "tags": []
          },
          "execution_count": 65
        }
      ]
    },
    {
      "cell_type": "code",
      "metadata": {
        "id": "vFWx5iXQaG-Y",
        "colab_type": "code",
        "outputId": "4cca3f1f-15e1-408f-cc77-bb7079bc2d9d",
        "colab": {
          "base_uri": "https://localhost:8080/",
          "height": 133
        }
      },
      "source": [
        "df_test = data_preprocessing(df_test)\n",
        "df_test.sample(2)"
      ],
      "execution_count": 66,
      "outputs": [
        {
          "output_type": "execute_result",
          "data": {
            "text/html": [
              "<div>\n",
              "<style scoped>\n",
              "    .dataframe tbody tr th:only-of-type {\n",
              "        vertical-align: middle;\n",
              "    }\n",
              "\n",
              "    .dataframe tbody tr th {\n",
              "        vertical-align: top;\n",
              "    }\n",
              "\n",
              "    .dataframe thead th {\n",
              "        text-align: right;\n",
              "    }\n",
              "</style>\n",
              "<table border=\"1\" class=\"dataframe\">\n",
              "  <thead>\n",
              "    <tr style=\"text-align: right;\">\n",
              "      <th></th>\n",
              "      <th>heart_rate</th>\n",
              "      <th>alpha_high</th>\n",
              "      <th>alpha_low</th>\n",
              "      <th>beta_high</th>\n",
              "      <th>beta_low</th>\n",
              "      <th>gamma_low</th>\n",
              "      <th>delta</th>\n",
              "      <th>theta</th>\n",
              "      <th>left_eye_open_prob</th>\n",
              "      <th>right_eye_open_prob</th>\n",
              "      <th>is_drowsy</th>\n",
              "    </tr>\n",
              "    <tr>\n",
              "      <th>timestamp</th>\n",
              "      <th></th>\n",
              "      <th></th>\n",
              "      <th></th>\n",
              "      <th></th>\n",
              "      <th></th>\n",
              "      <th></th>\n",
              "      <th></th>\n",
              "      <th></th>\n",
              "      <th></th>\n",
              "      <th></th>\n",
              "      <th></th>\n",
              "    </tr>\n",
              "  </thead>\n",
              "  <tbody>\n",
              "    <tr>\n",
              "      <th>2020-04-09 05:55:16.855000019</th>\n",
              "      <td>88.0</td>\n",
              "      <td>21714.0</td>\n",
              "      <td>9654.0</td>\n",
              "      <td>6061.0</td>\n",
              "      <td>5339.0</td>\n",
              "      <td>1818.0</td>\n",
              "      <td>663878.0</td>\n",
              "      <td>25370.0</td>\n",
              "      <td>0.996592</td>\n",
              "      <td>0.997431</td>\n",
              "      <td>0</td>\n",
              "    </tr>\n",
              "    <tr>\n",
              "      <th>2020-04-09 05:56:49.848999977</th>\n",
              "      <td>85.0</td>\n",
              "      <td>12755.0</td>\n",
              "      <td>12213.0</td>\n",
              "      <td>19480.0</td>\n",
              "      <td>9923.0</td>\n",
              "      <td>6522.0</td>\n",
              "      <td>1720102.0</td>\n",
              "      <td>31682.0</td>\n",
              "      <td>0.988791</td>\n",
              "      <td>0.998313</td>\n",
              "      <td>0</td>\n",
              "    </tr>\n",
              "  </tbody>\n",
              "</table>\n",
              "</div>"
            ],
            "text/plain": [
              "                               heart_rate  ...  is_drowsy\n",
              "timestamp                                  ...           \n",
              "2020-04-09 05:55:16.855000019        88.0  ...          0\n",
              "2020-04-09 05:56:49.848999977        85.0  ...          0\n",
              "\n",
              "[2 rows x 11 columns]"
            ]
          },
          "metadata": {
            "tags": []
          },
          "execution_count": 66
        }
      ]
    },
    {
      "cell_type": "code",
      "metadata": {
        "id": "JhXwqU7DaP49",
        "colab_type": "code",
        "outputId": "6821d5d6-5a7b-41aa-dc9a-dd8561b1a842",
        "colab": {
          "base_uri": "https://localhost:8080/",
          "height": 133
        }
      },
      "source": [
        "df_test, sequential_data_test = create_data(df_test,SEQ_LEN,FUTURE_PERIOD_PREDICT)\n",
        "df_test.sample(2)"
      ],
      "execution_count": 67,
      "outputs": [
        {
          "output_type": "execute_result",
          "data": {
            "text/html": [
              "<div>\n",
              "<style scoped>\n",
              "    .dataframe tbody tr th:only-of-type {\n",
              "        vertical-align: middle;\n",
              "    }\n",
              "\n",
              "    .dataframe tbody tr th {\n",
              "        vertical-align: top;\n",
              "    }\n",
              "\n",
              "    .dataframe thead th {\n",
              "        text-align: right;\n",
              "    }\n",
              "</style>\n",
              "<table border=\"1\" class=\"dataframe\">\n",
              "  <thead>\n",
              "    <tr style=\"text-align: right;\">\n",
              "      <th></th>\n",
              "      <th>heart_rate</th>\n",
              "      <th>alpha_high</th>\n",
              "      <th>left_eye_open_prob</th>\n",
              "      <th>right_eye_open_prob</th>\n",
              "      <th>target</th>\n",
              "    </tr>\n",
              "    <tr>\n",
              "      <th>timestamp</th>\n",
              "      <th></th>\n",
              "      <th></th>\n",
              "      <th></th>\n",
              "      <th></th>\n",
              "      <th></th>\n",
              "    </tr>\n",
              "  </thead>\n",
              "  <tbody>\n",
              "    <tr>\n",
              "      <th>2020-04-09 06:00:27.243000031</th>\n",
              "      <td>83.0</td>\n",
              "      <td>103309.0</td>\n",
              "      <td>0.165287</td>\n",
              "      <td>0.992931</td>\n",
              "      <td>0</td>\n",
              "    </tr>\n",
              "    <tr>\n",
              "      <th>2020-04-09 05:40:16.082000017</th>\n",
              "      <td>82.0</td>\n",
              "      <td>344372.0</td>\n",
              "      <td>0.993816</td>\n",
              "      <td>0.997728</td>\n",
              "      <td>0</td>\n",
              "    </tr>\n",
              "  </tbody>\n",
              "</table>\n",
              "</div>"
            ],
            "text/plain": [
              "                               heart_rate  ...  target\n",
              "timestamp                                  ...        \n",
              "2020-04-09 06:00:27.243000031        83.0  ...       0\n",
              "2020-04-09 05:40:16.082000017        82.0  ...       0\n",
              "\n",
              "[2 rows x 5 columns]"
            ]
          },
          "metadata": {
            "tags": []
          },
          "execution_count": 67
        }
      ]
    },
    {
      "cell_type": "code",
      "metadata": {
        "id": "EPlCKI9VafeN",
        "colab_type": "code",
        "colab": {}
      },
      "source": [
        "random.shuffle(sequential_data_test)"
      ],
      "execution_count": 0,
      "outputs": []
    },
    {
      "cell_type": "code",
      "metadata": {
        "id": "Qg9nDfizasjz",
        "colab_type": "code",
        "colab": {}
      },
      "source": [
        "X_test, y_test = create_training_label_data(sequential_data_test)"
      ],
      "execution_count": 0,
      "outputs": []
    },
    {
      "cell_type": "code",
      "metadata": {
        "id": "w6yfc9P8SF8s",
        "colab_type": "code",
        "outputId": "e6ca769a-59b0-4c78-8678-a6e58903780c",
        "colab": {
          "base_uri": "https://localhost:8080/",
          "height": 163
        }
      },
      "source": [
        "model_predict = model.predict(X_test)\n",
        "prediction = np.where(model_predict> 0.5, 1, 0)\n",
        "print(classification_report(prediction,y_test))"
      ],
      "execution_count": 70,
      "outputs": [
        {
          "output_type": "stream",
          "text": [
            "              precision    recall  f1-score   support\n",
            "\n",
            "           0       0.88      0.89      0.88     13786\n",
            "           1       0.51      0.49      0.50      3348\n",
            "\n",
            "    accuracy                           0.81     17134\n",
            "   macro avg       0.70      0.69      0.69     17134\n",
            "weighted avg       0.81      0.81      0.81     17134\n",
            "\n"
          ],
          "name": "stdout"
        }
      ]
    },
    {
      "cell_type": "code",
      "metadata": {
        "id": "cFtBVf0YL-lt",
        "colab_type": "code",
        "colab": {
          "base_uri": "https://localhost:8080/",
          "height": 33
        },
        "outputId": "d025b3f5-d998-455f-dfe9-5430039bed4d"
      },
      "source": [
        "accuracy_score(prediction,y_test)"
      ],
      "execution_count": 82,
      "outputs": [
        {
          "output_type": "execute_result",
          "data": {
            "text/plain": [
              "0.8097350297653788"
            ]
          },
          "metadata": {
            "tags": []
          },
          "execution_count": 82
        }
      ]
    },
    {
      "cell_type": "code",
      "metadata": {
        "id": "Xxi_Gdn74Opi",
        "colab_type": "code",
        "outputId": "69088fe3-4837-4ee4-8c4f-137aa3f5f7a9",
        "colab": {
          "base_uri": "https://localhost:8080/",
          "height": 33
        }
      },
      "source": [
        "f1_score(prediction,y_test)"
      ],
      "execution_count": 83,
      "outputs": [
        {
          "output_type": "execute_result",
          "data": {
            "text/plain": [
              "0.504107088530575"
            ]
          },
          "metadata": {
            "tags": []
          },
          "execution_count": 83
        }
      ]
    },
    {
      "cell_type": "code",
      "metadata": {
        "id": "kJay045-4ry5",
        "colab_type": "code",
        "outputId": "e7000c2e-c37f-4b7e-cee9-9d7a5b30ee79",
        "colab": {
          "base_uri": "https://localhost:8080/",
          "height": 50
        }
      },
      "source": [
        "unique_elements, counts_elements = np.unique(y_test, return_counts=True)\n",
        "print(np.asarray((unique_elements, counts_elements)))"
      ],
      "execution_count": 79,
      "outputs": [
        {
          "output_type": "stream",
          "text": [
            "[[    0     1]\n",
            " [13908  3226]]\n"
          ],
          "name": "stdout"
        }
      ]
    },
    {
      "cell_type": "code",
      "metadata": {
        "id": "VP0nVR_z38wh",
        "colab_type": "code",
        "outputId": "f388ea30-b347-43ad-ca06-b2e3508f30a8",
        "colab": {
          "base_uri": "https://localhost:8080/",
          "height": 180
        }
      },
      "source": [
        "model_predict = model.predict(X_test)\n",
        "prediction = np.where(model_predict> 0.5, 1, 0)\n",
        "print(classification_report(prediction,y_test))"
      ],
      "execution_count": 75,
      "outputs": [
        {
          "output_type": "execute_result",
          "data": {
            "text/plain": [
              "array([[0],\n",
              "       [0],\n",
              "       [0],\n",
              "       [0],\n",
              "       [1],\n",
              "       [1],\n",
              "       [0],\n",
              "       [0],\n",
              "       [0],\n",
              "       [0]])"
            ]
          },
          "metadata": {
            "tags": []
          },
          "execution_count": 75
        }
      ]
    },
    {
      "cell_type": "code",
      "metadata": {
        "id": "DyucD60C3-O8",
        "colab_type": "code",
        "outputId": "21eabbbe-e8be-4876-9e9b-c4ef03b0f059",
        "colab": {
          "base_uri": "https://localhost:8080/",
          "height": 33
        }
      },
      "source": [
        "y_test[0:10]"
      ],
      "execution_count": 76,
      "outputs": [
        {
          "output_type": "execute_result",
          "data": {
            "text/plain": [
              "array([0, 0, 1, 0, 0, 0, 0, 0, 0, 1])"
            ]
          },
          "metadata": {
            "tags": []
          },
          "execution_count": 76
        }
      ]
    },
    {
      "cell_type": "code",
      "metadata": {
        "id": "Yks_l11gX-Uz",
        "colab_type": "code",
        "colab": {
          "base_uri": "https://localhost:8080/",
          "height": 102
        },
        "outputId": "86b939c0-3572-4d86-81c2-1db192655407"
      },
      "source": [
        "model.save(\"model3.model\")"
      ],
      "execution_count": 84,
      "outputs": [
        {
          "output_type": "stream",
          "text": [
            "WARNING:tensorflow:From /usr/local/lib/python3.6/dist-packages/tensorflow/python/ops/resource_variable_ops.py:1817: calling BaseResourceVariable.__init__ (from tensorflow.python.ops.resource_variable_ops) with constraint is deprecated and will be removed in a future version.\n",
            "Instructions for updating:\n",
            "If using Keras pass *_constraint arguments to layers.\n",
            "INFO:tensorflow:Assets written to: model3.model/assets\n"
          ],
          "name": "stdout"
        }
      ]
    },
    {
      "cell_type": "code",
      "metadata": {
        "id": "7sZHIkQ3Ybzb",
        "colab_type": "code",
        "colab": {}
      },
      "source": [
        "converter = tf.lite.TFLiteConverter.from_keras_model(model)\n",
        "tflite_model = converter.convert()"
      ],
      "execution_count": 0,
      "outputs": []
    },
    {
      "cell_type": "code",
      "metadata": {
        "id": "ouNmwISGYn4q",
        "colab_type": "code",
        "colab": {
          "base_uri": "https://localhost:8080/",
          "height": 33
        },
        "outputId": "1ce8dc81-6e27-4466-e062-184ad3233c72"
      },
      "source": [
        "open(\"model3.tflite\", \"wb\").write(tflite_model)"
      ],
      "execution_count": 86,
      "outputs": [
        {
          "output_type": "execute_result",
          "data": {
            "text/plain": [
              "2933312"
            ]
          },
          "metadata": {
            "tags": []
          },
          "execution_count": 86
        }
      ]
    },
    {
      "cell_type": "code",
      "metadata": {
        "id": "_TnuiFnZZMAd",
        "colab_type": "code",
        "colab": {
          "base_uri": "https://localhost:8080/",
          "height": 50
        },
        "outputId": "69e583bd-d7f6-49cd-e6cc-c700846d23ee"
      },
      "source": [
        "tf.saved_model.save(model, \"model3\")"
      ],
      "execution_count": 87,
      "outputs": [
        {
          "output_type": "stream",
          "text": [
            "INFO:tensorflow:Assets written to: model3/assets\n"
          ],
          "name": "stdout"
        },
        {
          "output_type": "stream",
          "text": [
            "INFO:tensorflow:Assets written to: model3/assets\n"
          ],
          "name": "stderr"
        }
      ]
    },
    {
      "cell_type": "code",
      "metadata": {
        "id": "3VvEaGmkaBpW",
        "colab_type": "code",
        "colab": {
          "base_uri": "https://localhost:8080/",
          "height": 131
        },
        "outputId": "38cd179f-97f9-443f-94fc-799f41cdbce9"
      },
      "source": [
        "!zip -r /content/file.zip /content/model3"
      ],
      "execution_count": 88,
      "outputs": [
        {
          "output_type": "stream",
          "text": [
            "  adding: content/model3/ (stored 0%)\n",
            "  adding: content/model3/variables/ (stored 0%)\n",
            "  adding: content/model3/variables/variables.index (deflated 73%)\n",
            "  adding: content/model3/variables/variables.data-00001-of-00002 (deflated 6%)\n",
            "  adding: content/model3/variables/variables.data-00000-of-00002 (deflated 81%)\n",
            "  adding: content/model3/assets/ (stored 0%)\n",
            "  adding: content/model3/saved_model.pb (deflated 90%)\n"
          ],
          "name": "stdout"
        }
      ]
    },
    {
      "cell_type": "code",
      "metadata": {
        "id": "S4z5fy80aPJz",
        "colab_type": "code",
        "colab": {}
      },
      "source": [
        "interpreter = tf.lite.Interpreter(model_path=\"model3.tflite\")\n",
        "interpreter.allocate_tensors()"
      ],
      "execution_count": 0,
      "outputs": []
    },
    {
      "cell_type": "code",
      "metadata": {
        "id": "jc-jiyuwUqJs",
        "colab_type": "code",
        "colab": {
          "base_uri": "https://localhost:8080/",
          "height": 50
        },
        "outputId": "98556d60-9cef-4fc0-d50c-e684033cb5ba"
      },
      "source": [
        "print(interpreter.get_input_details()[0]['shape'])  \n",
        "print(interpreter.get_input_details()[0]['dtype'])  "
      ],
      "execution_count": 90,
      "outputs": [
        {
          "output_type": "stream",
          "text": [
            "[   1 3000    4]\n",
            "<class 'numpy.float32'>\n"
          ],
          "name": "stdout"
        }
      ]
    },
    {
      "cell_type": "code",
      "metadata": {
        "id": "4jZuoW3BUsP5",
        "colab_type": "code",
        "colab": {
          "base_uri": "https://localhost:8080/",
          "height": 50
        },
        "outputId": "c1f53add-5df8-4732-86dd-0c57297260d0"
      },
      "source": [
        "print(interpreter.get_output_details()[0]['shape'])  \n",
        "print(interpreter.get_output_details()[0]['dtype'])  "
      ],
      "execution_count": 91,
      "outputs": [
        {
          "output_type": "stream",
          "text": [
            "[]\n",
            "<class 'numpy.float32'>\n"
          ],
          "name": "stdout"
        }
      ]
    },
    {
      "cell_type": "code",
      "metadata": {
        "id": "hMHAz0_4Utwo",
        "colab_type": "code",
        "colab": {}
      },
      "source": [
        ""
      ],
      "execution_count": 0,
      "outputs": []
    }
  ]
}